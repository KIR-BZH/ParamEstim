{
 "cells": [
  {
   "cell_type": "code",
   "execution_count": null,
   "metadata": {},
   "outputs": [],
   "source": [
    "include(\"ParamEstim.jl\")\n",
    "using .ParamEstim"
   ]
  },
  {
   "cell_type": "code",
   "execution_count": null,
   "metadata": {},
   "outputs": [],
   "source": [
    "#==============================================================================\n",
    "    viz_type::String => \"best\", \"average\", \"original\" or int(1~n_fitparam)\n",
    "    show_all::Bool\n",
    "    stdev::Bool (Only when viz_type == \"average\")\n",
    "==============================================================================#\n",
    "visualizeResult(Sim,viz_type=\"average\",show_all=false,stdev=true)"
   ]
  }
 ],
 "metadata": {
  "@webio": {
   "lastCommId": null,
   "lastKernelId": null
  },
  "kernelspec": {
   "display_name": "Julia 1.0.0",
   "language": "julia",
   "name": "julia-1.0"
  },
  "language_info": {
   "file_extension": ".jl",
   "mimetype": "application/julia",
   "name": "julia",
   "version": "1.0.0"
  }
 },
 "nbformat": 4,
 "nbformat_minor": 2
}
