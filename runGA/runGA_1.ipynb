{
 "cells": [
  {
   "cell_type": "code",
   "execution_count": null,
   "metadata": {},
   "outputs": [],
   "source": [
    "display(\"text/html\", \"\"\"<script charset=\"utf-8\">\n",
    "    IPython.notebook.kernel.execute(\n",
    "        'current_ipynb = \"'+IPython.notebook.notebook_name+'\" '\n",
    "    );\n",
    "    </script>\"\"\"\n",
    ")"
   ]
  },
  {
   "cell_type": "code",
   "execution_count": null,
   "metadata": {},
   "outputs": [],
   "source": [
    "include(\"../ParamEstim.jl\")\n",
    "using .ParamEstim\n",
    "optimize();"
   ]
  }
 ],
 "metadata": {
  "@webio": {
   "lastCommId": null,
   "lastKernelId": null
  },
  "kernelspec": {
   "display_name": "Julia 1.1.0",
   "language": "julia",
   "name": "julia-1.1"
  },
  "language_info": {
   "file_extension": ".jl",
   "mimetype": "application/julia",
   "name": "julia",
   "version": "1.1.0"
  }
 },
 "nbformat": 4,
 "nbformat_minor": 2
}
